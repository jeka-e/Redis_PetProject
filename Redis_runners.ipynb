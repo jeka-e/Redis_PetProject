{
 "cells": [
  {
   "cell_type": "code",
   "execution_count": 1,
   "metadata": {},
   "outputs": [
    {
     "name": "stdout",
     "output_type": "stream",
     "text": [
      "Requirement already satisfied: redis in /Users/Jeka/anaconda3/lib/python3.7/site-packages (4.2.0)\n",
      "Requirement already satisfied: typing-extensions in /Users/Jeka/anaconda3/lib/python3.7/site-packages (from redis) (4.1.1)\n",
      "Requirement already satisfied: async-timeout>=4.0.2 in /Users/Jeka/anaconda3/lib/python3.7/site-packages (from redis) (4.0.2)\n",
      "Requirement already satisfied: packaging>=20.4 in /Users/Jeka/anaconda3/lib/python3.7/site-packages (from redis) (21.3)\n",
      "Requirement already satisfied: deprecated>=1.2.3 in /Users/Jeka/anaconda3/lib/python3.7/site-packages (from redis) (1.2.13)\n",
      "Requirement already satisfied: importlib-metadata>=1.0 in /Users/Jeka/anaconda3/lib/python3.7/site-packages (from redis) (2.0.0)\n",
      "Requirement already satisfied: wrapt<2,>=1.10 in /Users/Jeka/anaconda3/lib/python3.7/site-packages (from deprecated>=1.2.3->redis) (1.10.11)\n",
      "Requirement already satisfied: zipp>=0.5 in /Users/Jeka/anaconda3/lib/python3.7/site-packages (from importlib-metadata>=1.0->redis) (3.3.0)\n",
      "Requirement already satisfied: pyparsing!=3.0.5,>=2.0.2 in /Users/Jeka/anaconda3/lib/python3.7/site-packages (from packaging>=20.4->redis) (2.2.0)\n",
      "\u001b[33mWARNING: You are using pip version 21.3.1; however, version 22.0.4 is available.\n",
      "You should consider upgrading via the '/Users/Jeka/anaconda3/bin/python -m pip install --upgrade pip' command.\u001b[0m\n"
     ]
    }
   ],
   "source": [
    "import sys\n",
    "!{sys.executable} -m pip install redis"
   ]
  },
  {
   "cell_type": "code",
   "execution_count": 2,
   "metadata": {},
   "outputs": [
    {
     "name": "stdout",
     "output_type": "stream",
     "text": [
      "Requirement already satisfied: bson in /Users/Jeka/anaconda3/lib/python3.7/site-packages (0.5.10)\n",
      "Requirement already satisfied: python-dateutil>=2.4.0 in /Users/Jeka/anaconda3/lib/python3.7/site-packages (from bson) (2.7.3)\n",
      "Requirement already satisfied: six>=1.9.0 in /Users/Jeka/anaconda3/lib/python3.7/site-packages (from bson) (1.11.0)\n",
      "\u001b[33mWARNING: You are using pip version 21.3.1; however, version 22.0.4 is available.\n",
      "You should consider upgrading via the '/Users/Jeka/anaconda3/bin/python -m pip install --upgrade pip' command.\u001b[0m\n"
     ]
    }
   ],
   "source": [
    "!{sys.executable} -m pip install bson"
   ]
  },
  {
   "cell_type": "code",
   "execution_count": 63,
   "metadata": {},
   "outputs": [],
   "source": [
    "import redis "
   ]
  },
  {
   "cell_type": "code",
   "execution_count": 64,
   "metadata": {},
   "outputs": [],
   "source": [
    "r = redis.Redis(host='localhost', port=6379, db=0)"
   ]
  },
  {
   "cell_type": "code",
   "execution_count": 65,
   "metadata": {},
   "outputs": [],
   "source": [
    "from ipywidgets import HTML\n",
    "\n",
    "def show_redis_data(r):\n",
    "    html = HTML()\n",
    "    out = '<table border=\"1\">'\n",
    "    for key in r.keys():\n",
    "        t = r.type(key).decode()\n",
    "#         print(key.decode(), t)\n",
    "        \n",
    "        if t == 'string':\n",
    "            data = r.get(key)\n",
    "            out += f'<tr><td style=\"padding:3px;width:150px;\">{key.decode()}</td>'\\\n",
    "                   f'<td style=\"padding:3px;width:50px;\">string</td>'\\\n",
    "                   f'<td style=\"padding:3px;\">{data.decode()}</td></tr>'\n",
    "        elif t == 'list':\n",
    "            l = r.llen(key)\n",
    "            data = r.lrange(key, 0, l)\n",
    "            out += f'<tr><td style=\"padding:3px;width:150px;\">{key.decode()}</td>'\\\n",
    "                   f'<td style=\"padding:3px;width:50px;\">list</td>'\\\n",
    "                   f'<td style=\"padding:3px;\">[{\", \".join([d.decode() for d in data])}]</td></tr>'\n",
    "        elif t == 'hash':\n",
    "            data = []\n",
    "            for key2 in r.hkeys(key):\n",
    "                data.append(f'{key2.decode()}: {r.hget(key, key2).decode()}')\n",
    "            out += f'<tr><td style=\"padding:3px;width:150px;\">{key.decode()}</td>'\\\n",
    "                   f'<td style=\"padding:3px;width:50px;\">hash</td>'\\\n",
    "                   f'<td style=\"padding:3px;\">{{{\", \".join(data)}}}</td></tr>'\n",
    "        elif t == 'set':\n",
    "            data = r.smembers(key)\n",
    "            out += f'<tr><td style=\"padding:3px;width:150px;\">{key.decode()}</td>'\\\n",
    "                   f'<td style=\"padding:3px;width:50px;\">set</td>'\\\n",
    "                   f'<td style=\"padding:3px;\">({\", \".join([d.decode() for d in data])})</td></tr>'\n",
    "        \n",
    "    out += '</table>'\n",
    "    \n",
    "    html.value = out\n",
    "    display(html)"
   ]
  },
  {
   "cell_type": "code",
   "execution_count": 66,
   "metadata": {},
   "outputs": [],
   "source": [
    "zhenya = {\n",
    "            'person_id': 0,\n",
    "            'name': 'Женя',\n",
    "            'gender': 'ж',\n",
    "            'age': '20',\n",
    "            'country': 'RF',\n",
    "            'distance': 0\n",
    "        }\n",
    "\n",
    "nastya = {\n",
    "            'person_id': 1,\n",
    "            'name': 'Настя Чижикова',\n",
    "            'gender': 'ж',\n",
    "            'age': '20',\n",
    "            'country': 'RF',\n",
    "            'distance': 0\n",
    "        }\n",
    "\n",
    "ritos = {\n",
    "            'person_id': 2,\n",
    "            'name': 'Рита Попова',\n",
    "            'gender': 'ж',\n",
    "            'age': '23',\n",
    "            'country': 'RF',\n",
    "            'distance': 0\n",
    "        }\n",
    "\n",
    "lilya = {\n",
    "            'person_id': 3,\n",
    "            'name': 'Лиля',\n",
    "            'gender': 'ж',\n",
    "            'age': '22',\n",
    "            'country': 'Arzamas',\n",
    "            'distance': 0\n",
    "        }\n",
    "\n",
    "\n",
    "kuzya = {\n",
    "            'person_id': 4,\n",
    "            'name': 'Кузя',\n",
    "            'gender': 'ж',\n",
    "            'age': '22',\n",
    "            'country': 'Чехия',\n",
    "            'distance': 0\n",
    "        }\n",
    "\n",
    "polyana = {\n",
    "            'person_id': 5,\n",
    "            'name': 'Поляна',\n",
    "            'gender': 'ж',\n",
    "            'age': '21',\n",
    "            'country': 'RF',\n",
    "            'distance': 0\n",
    "        }\n",
    "\n",
    "danya = {\n",
    "            'person_id': 6,\n",
    "            'name': 'Даня',\n",
    "            'gender': 'м',\n",
    "            'age': '25',\n",
    "            'country': 'Грузия',\n",
    "            'distance': 0\n",
    "        }\n",
    "\n",
    "participants_list = [zhenya, nastya, ritos, lilya, kuzya, polyana, danya]"
   ]
  },
  {
   "cell_type": "code",
   "execution_count": 67,
   "metadata": {},
   "outputs": [],
   "source": [
    "import random\n",
    "from bson import ObjectId"
   ]
  },
  {
   "cell_type": "code",
   "execution_count": 68,
   "metadata": {},
   "outputs": [],
   "source": [
    "r = redis.Redis(host='localhost', port=6379, db=0)"
   ]
  },
  {
   "cell_type": "code",
   "execution_count": 69,
   "metadata": {},
   "outputs": [
    {
     "data": {
      "text/plain": [
       "True"
      ]
     },
     "execution_count": 69,
     "metadata": {},
     "output_type": "execute_result"
    }
   ],
   "source": [
    "r.flushdb()"
   ]
  },
  {
   "cell_type": "code",
   "execution_count": 70,
   "metadata": {},
   "outputs": [],
   "source": [
    "def AddNewRunner(cur_time, person_info=None):\n",
    "    if person_info == None:\n",
    "        oid = str(ObjectId())\n",
    "        age = random.randint(18, 70)\n",
    "        gender = random.choice(['m', 'f'])\n",
    "        country = random.choice(['USA', 'CANADA', 'FRANCE', 'UKRAINE'])\n",
    "        name = random.choice(['Mike', 'Michael', 'Michelle', 'Misha'])\n",
    "        start_time = cur_time    \n",
    "        distance = 0\n",
    "\n",
    "        person_info = {\n",
    "            'person_id': oid,\n",
    "            'name': name,\n",
    "            'gender': gender,\n",
    "            'age':age,\n",
    "            'country': country,\n",
    "            'distance': distance\n",
    "        }\n",
    "        \n",
    "    # новый человек начинает бежать, надо добавить про него инфу (CREATE)\n",
    "    person_info['start_time'] = str(cur_time) #он только начал\n",
    "    r.hset(\"person:\"+str(person_info[\"person_id\"]), mapping=person_info) \n",
    "    # и добавить его в список атлетов\n",
    "    r.lpush(\"person_ids\", person_info[\"person_id\"])\n",
    "    \n",
    "    return person_info['person_id']\n",
    "    \n",
    "\n",
    "def AddNewRecord(oid, cur_time, record_info=None):\n",
    "    timestamp = cur_time\n",
    "    if record_info == None:\n",
    "        if cur_time != 0: \n",
    "            #усложняю себе жизнь полуадекватной генерацией\n",
    "            if r.exists(str(oid)+':'+str(cur_time - 1)) == 1: #если этот человек уже есть и бежит\n",
    "\n",
    "                passed_distance = r.hget(str(oid)+':'+str(cur_time - 1), 'distance')\n",
    "                distance = int(passed_distance.decode()) + random.randint(1, 7)\n",
    "\n",
    "                prev_pulse_rate = r.hget(str(oid)+':'+str(cur_time - 1), 'pulse_rate')\n",
    "                prev_pulse_rate = int(prev_pulse_rate.decode())\n",
    "                if prev_pulse_rate < 180:\n",
    "                    pulse_rate = random.randint(prev_pulse_rate - 5, prev_pulse_rate + 10)\n",
    "                else:\n",
    "                    pulse_rate = random.randint(prev_pulse_rate - 10, prev_pulse_rate)\n",
    "                \n",
    "            else:  #если этого человека нет и он начал бежать\n",
    "                distance = 0 \n",
    "                pulse_rate = random.randint(60, 90)\n",
    "                r.hset(\"person:\"+str(oid), 'start_time', cur_time)\n",
    "        \n",
    "        else:  #если самое начало отчета для всех\n",
    "            distance = 0\n",
    "            pulse_rate = random.randint(60, 90)\n",
    "            r.hset(\"person:\"+str(oid), 'start_time', cur_time)\n",
    "            \n",
    "        record_info = {\n",
    "        'distance': distance,\n",
    "        'pulse_rate': pulse_rate\n",
    "        }\n",
    "       \n",
    "    \n",
    "    r.hset(str(oid)+':'+str(cur_time), mapping=record_info)\n",
    "    r.hset(\"person:\"+str(oid), 'distance', record_info['distance'])  #UPDATE\n",
    "        \n",
    "            \n",
    "def StartRunner(cur_time=0, person_info=None):\n",
    "    #создадим человека или заменим старт на текущее время\n",
    "    if person_info != None: \n",
    "        oid = person_info['person_id']\n",
    "        if r.exists('person:'+str(oid)) == 1:  # человек уже есть в базе, но решил начать заново (UPDATE)\n",
    "            r.hset('person:'+str(oid), 'start_time', cur_time)\n",
    "            r.hset('person:'+str(oid), 'distance', 0)\n",
    "        else:\n",
    "            oid = AddNewRunner(cur_time, person_info) #человека в базе нет, создаем его\n",
    "    else:\n",
    "        oid = AddNewRunner(cur_time)\n",
    "    \n",
    "    #создадим запись о том, что они начали\n",
    "    AddNewRecord(oid, cur_time)\n",
    "    \n",
    "    return oid\n",
    "                     \n",
    "         "
   ]
  },
  {
   "cell_type": "code",
   "execution_count": 73,
   "metadata": {},
   "outputs": [
    {
     "data": {
      "application/vnd.jupyter.widget-view+json": {
       "model_id": "bd9cc57cb71048c883694f6c6445a696",
       "version_major": 2,
       "version_minor": 0
      },
      "text/plain": [
       "HTML(value='<table border=\"1\"><tr><td style=\"padding:3px;width:150px;\">0:1</td><td style=\"padding:3px;width:50…"
      ]
     },
     "metadata": {},
     "output_type": "display_data"
    }
   ],
   "source": [
    "StartRunner()\n",
    "show_redis_data(r)"
   ]
  },
  {
   "cell_type": "code",
   "execution_count": 74,
   "metadata": {},
   "outputs": [
    {
     "data": {
      "application/vnd.jupyter.widget-view+json": {
       "model_id": "58809f5995274f0a975d09c2a3ad07c4",
       "version_major": 2,
       "version_minor": 0
      },
      "text/plain": [
       "HTML(value='<table border=\"1\"><tr><td style=\"padding:3px;width:150px;\">0:1</td><td style=\"padding:3px;width:50…"
      ]
     },
     "metadata": {},
     "output_type": "display_data"
    }
   ],
   "source": [
    "AddNewRecord('0', 2)\n",
    "show_redis_data(r)"
   ]
  },
  {
   "cell_type": "code",
   "execution_count": 75,
   "metadata": {},
   "outputs": [
    {
     "data": {
      "text/plain": [
       "True"
      ]
     },
     "execution_count": 75,
     "metadata": {},
     "output_type": "execute_result"
    }
   ],
   "source": [
    "r.flushdb()"
   ]
  },
  {
   "cell_type": "code",
   "execution_count": 76,
   "metadata": {},
   "outputs": [],
   "source": [
    "def CreateRace(participants_list, time_sec):\n",
    "    for participant in participants_list:\n",
    "        StartRunner(0, participant)\n",
    "        \n",
    "\n",
    "    person_ids = [oid.decode() for oid in r.lrange('person_ids', 0, -1)]\n",
    "    \n",
    "    for i in range(time_sec): #секунды\n",
    "        r.set('cur_time', i)  \n",
    "                \n",
    "        for oid in person_ids:\n",
    "            AddNewRecord(oid, i)\n",
    "            \n",
    "        if i == 10:\n",
    "            for num in range(5):  #еще 5 рандомных через 100 секунд\n",
    "                oid = StartRunner(cur_time=i)\n",
    "            person_ids = [oid.decode() for oid in r.lrange('person_ids', 0, -1)]\n",
    "    \n",
    "    "
   ]
  },
  {
   "cell_type": "code",
   "execution_count": 77,
   "metadata": {},
   "outputs": [
    {
     "data": {
      "application/vnd.jupyter.widget-view+json": {
       "model_id": "b96c9c7a14934b888d169dc9afdebcd5",
       "version_major": 2,
       "version_minor": 0
      },
      "text/plain": [
       "HTML(value='<table border=\"1\"><tr><td style=\"padding:3px;width:150px;\">4:23</td><td style=\"padding:3px;width:5…"
      ]
     },
     "metadata": {},
     "output_type": "display_data"
    }
   ],
   "source": [
    "CreateRace(participants_list, 100)\n",
    "show_redis_data(r)"
   ]
  },
  {
   "cell_type": "markdown",
   "metadata": {},
   "source": [
    "# READ"
   ]
  },
  {
   "cell_type": "code",
   "execution_count": 78,
   "metadata": {},
   "outputs": [],
   "source": [
    "# посмотреть, кто на какой дистанции находится в определенный момент времени \n",
    "def check_at_time(time_check):\n",
    "    person_ids = [oid.decode() for oid in r.lrange('person_ids', 0, -1)]\n",
    "    names = []\n",
    "    if time_check > int(r.get('cur_time').decode()):\n",
    "            print('это время еще не настало')\n",
    "    else:\n",
    "        for participant in person_ids: \n",
    "            if r.exists(str(participant)+':'+str(time_check)):\n",
    "                k = r.hget(str(participant)+':'+str(time_check), 'distance') #+st\n",
    "                for rp in participants_list:\n",
    "                    if str(rp['person_id']) == participant:\n",
    "                        participant = rp['name']\n",
    "                print(participant, k.decode())\n",
    "            "
   ]
  },
  {
   "cell_type": "code",
   "execution_count": 79,
   "metadata": {},
   "outputs": [
    {
     "name": "stdout",
     "output_type": "stream",
     "text": [
      "Даня 10\n",
      "Поляна 12\n",
      "Кузя 8\n",
      "Лиля 11\n",
      "Рита Попова 13\n",
      "Настя Чижикова 3\n",
      "Женя 9\n"
     ]
    }
   ],
   "source": [
    "check_at_time(2)"
   ]
  },
  {
   "cell_type": "code",
   "execution_count": 80,
   "metadata": {},
   "outputs": [
    {
     "name": "stdout",
     "output_type": "stream",
     "text": [
      "62444888524f204a15ee4a3a 342\n",
      "62444888524f204a15ee4a39 346\n",
      "62444888524f204a15ee4a38 348\n",
      "62444888524f204a15ee4a37 358\n",
      "62444888524f204a15ee4a36 362\n",
      "Даня 390\n",
      "Поляна 387\n",
      "Кузя 437\n",
      "Лиля 401\n",
      "Рита Попова 402\n",
      "Настя Чижикова 393\n",
      "Женя 360\n"
     ]
    }
   ],
   "source": [
    "check_at_time(99)"
   ]
  },
  {
   "cell_type": "markdown",
   "metadata": {},
   "source": [
    "# SORT"
   ]
  },
  {
   "cell_type": "markdown",
   "metadata": {},
   "source": [
    "отсортировать всех людей в базе по возрасту"
   ]
  },
  {
   "cell_type": "code",
   "execution_count": 81,
   "metadata": {},
   "outputs": [],
   "source": [
    "def sort_by_age(): #сформировать множество и отсортировать\n",
    "    person_ids = r.lrange('person_ids', 0, -1)\n",
    "    \n",
    "    for line in ['person:'+person_id.decode() for person_id in person_ids]:\n",
    "        r.sadd('indices', line) #добавить всех person\n",
    "        \n",
    "    a = r.smembers('indices') \n",
    "    print(a)\n",
    "    \n",
    "    sorted_pers = r.sort_ro('indices', by='*->age')\n",
    "    print(sorted_pers)\n",
    "    \n",
    "    for person_id in sorted_pers: \n",
    "        print(r.hget(person_id.decode(), 'name').decode(), r.hget(person_id.decode(), 'age').decode())\n",
    "        "
   ]
  },
  {
   "cell_type": "code",
   "execution_count": 82,
   "metadata": {},
   "outputs": [
    {
     "name": "stdout",
     "output_type": "stream",
     "text": [
      "{b'person:62444888524f204a15ee4a3a', b'person:4', b'person:1', b'person:5', b'person:62444888524f204a15ee4a36', b'person:6', b'person:62444888524f204a15ee4a39', b'person:2', b'person:62444888524f204a15ee4a38', b'person:3', b'person:62444888524f204a15ee4a37', b'person:0'}\n",
      "[b'person:62444888524f204a15ee4a38', b'person:0', b'person:1', b'person:5', b'person:3', b'person:4', b'person:2', b'person:6', b'person:62444888524f204a15ee4a37', b'person:62444888524f204a15ee4a39', b'person:62444888524f204a15ee4a36', b'person:62444888524f204a15ee4a3a']\n",
      "Michelle 19\n",
      "Женя 20\n",
      "Настя Чижикова 20\n",
      "Поляна 21\n",
      "Лиля 22\n",
      "Кузя 22\n",
      "Рита Попова 23\n",
      "Даня 25\n",
      "Mike 28\n",
      "Misha 33\n",
      "Michelle 34\n",
      "Misha 70\n"
     ]
    }
   ],
   "source": [
    "sort_by_age()"
   ]
  },
  {
   "cell_type": "markdown",
   "metadata": {},
   "source": [
    "# Агрегация на коленке"
   ]
  },
  {
   "cell_type": "markdown",
   "metadata": {},
   "source": [
    "посчитать средний пульс какого-нибудь участника со всех данны и сохранить его в новую переменную"
   ]
  },
  {
   "cell_type": "code",
   "execution_count": 83,
   "metadata": {},
   "outputs": [],
   "source": [
    "def average_pr(person_id):\n",
    "    st = r.hget('person:'+str(person_id), 'start_time').decode()\n",
    "    mt = r.get('cur_time').decode()\n",
    "    \n",
    "    sum_pulse = 0\n",
    "    \n",
    "    for i in range(int(st), int(mt) + 1):\n",
    "        pulse = r.hget(str(person_id)+':'+str(i), 'pulse_rate').decode()\n",
    "        sum_pulse += int(pulse)\n",
    "    \n",
    "    avg_pr = sum_pulse/(int(mt) + 1 - int(st))\n",
    "    print(avg_pr)\n",
    "    \n",
    "    r.set('avg_pulse:'+str(person_id), avg_pr)\n",
    "    "
   ]
  },
  {
   "cell_type": "code",
   "execution_count": 84,
   "metadata": {},
   "outputs": [
    {
     "name": "stdout",
     "output_type": "stream",
     "text": [
      "150.4111111111111\n",
      "153.14444444444445\n",
      "158.07777777777778\n",
      "145.6888888888889\n",
      "159.9\n",
      "166.86\n",
      "151.43\n",
      "149.39\n",
      "141.91\n",
      "136.63\n",
      "158.8\n",
      "134.61\n"
     ]
    }
   ],
   "source": [
    "for i in r.lrange('person_ids', 0, -1):\n",
    "    average_pr(i.decode())"
   ]
  },
  {
   "cell_type": "markdown",
   "metadata": {},
   "source": [
    "# DELETE и PIPELINE"
   ]
  },
  {
   "cell_type": "markdown",
   "metadata": {},
   "source": [
    "удалить всю инфу об одном человеке"
   ]
  },
  {
   "cell_type": "code",
   "execution_count": 85,
   "metadata": {},
   "outputs": [],
   "source": [
    "def cancel(person_id): #удалить среднее, все заметки, личную инфу, из списка\n",
    "    \n",
    "    pipe=r.pipeline()\n",
    "    pipe.delete('avg_pulse:'+str(person_id))\n",
    "    pipe.delete('person:'+str(person_id))\n",
    "    \n",
    "    st = r.hget('person:'+str(person_id), 'start_time')\n",
    "    st = st.decode()\n",
    "    mt = r.get('cur_time')\n",
    "    mt = mt.decode()\n",
    "        \n",
    "    for i in range(int(st), int(mt) + 1):\n",
    "        pipe.delete(str(person_id)+':'+str(i))\n",
    "        \n",
    "    pipe.lrem('person_ids', 0, person_id)\n",
    "    \n",
    "    pipe.execute()\n",
    "        \n",
    "    \n",
    "    \n"
   ]
  },
  {
   "cell_type": "code",
   "execution_count": 86,
   "metadata": {},
   "outputs": [],
   "source": [
    "cancel(3)"
   ]
  },
  {
   "cell_type": "code",
   "execution_count": 87,
   "metadata": {},
   "outputs": [
    {
     "data": {
      "text/plain": [
       "0"
      ]
     },
     "execution_count": 87,
     "metadata": {},
     "output_type": "execute_result"
    }
   ],
   "source": [
    "r.exists('person:3')"
   ]
  },
  {
   "cell_type": "code",
   "execution_count": 88,
   "metadata": {},
   "outputs": [
    {
     "data": {
      "text/plain": [
       "[b'62444888524f204a15ee4a3a',\n",
       " b'62444888524f204a15ee4a39',\n",
       " b'62444888524f204a15ee4a38',\n",
       " b'62444888524f204a15ee4a37',\n",
       " b'62444888524f204a15ee4a36',\n",
       " b'6',\n",
       " b'5',\n",
       " b'4',\n",
       " b'2',\n",
       " b'1',\n",
       " b'0']"
      ]
     },
     "execution_count": 88,
     "metadata": {},
     "output_type": "execute_result"
    }
   ],
   "source": [
    "r.lrange('person_ids', 0 , -1)"
   ]
  },
  {
   "cell_type": "code",
   "execution_count": 89,
   "metadata": {
    "scrolled": true
   },
   "outputs": [
    {
     "data": {
      "application/vnd.jupyter.widget-view+json": {
       "model_id": "fa1288ab80654ab2ab5a26b40d0cef23",
       "version_major": 2,
       "version_minor": 0
      },
      "text/plain": [
       "HTML(value='<table border=\"1\"><tr><td style=\"padding:3px;width:150px;\">4:23</td><td style=\"padding:3px;width:5…"
      ]
     },
     "metadata": {},
     "output_type": "display_data"
    }
   ],
   "source": [
    "show_redis_data(r)"
   ]
  },
  {
   "cell_type": "code",
   "execution_count": null,
   "metadata": {},
   "outputs": [],
   "source": []
  }
 ],
 "metadata": {
  "kernelspec": {
   "display_name": "Python 3",
   "language": "python",
   "name": "python3"
  },
  "language_info": {
   "codemirror_mode": {
    "name": "ipython",
    "version": 3
   },
   "file_extension": ".py",
   "mimetype": "text/x-python",
   "name": "python",
   "nbconvert_exporter": "python",
   "pygments_lexer": "ipython3",
   "version": "3.7.0"
  }
 },
 "nbformat": 4,
 "nbformat_minor": 2
}
